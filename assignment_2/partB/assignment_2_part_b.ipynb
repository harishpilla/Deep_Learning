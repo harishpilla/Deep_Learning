{
  "metadata": {
    "kernelspec": {
      "language": "python",
      "display_name": "Python 3",
      "name": "python3"
    },
    "language_info": {
      "name": "python",
      "version": "3.7.12",
      "mimetype": "text/x-python",
      "codemirror_mode": {
        "name": "ipython",
        "version": 3
      },
      "pygments_lexer": "ipython3",
      "nbconvert_exporter": "python",
      "file_extension": ".py"
    },
    "colab": {
      "name": "assignment-2-part-b.ipynb",
      "provenance": [],
      "include_colab_link": true
    }
  },
  "nbformat_minor": 0,
  "nbformat": 4,
  "cells": [
    {
      "cell_type": "markdown",
      "metadata": {
        "id": "view-in-github",
        "colab_type": "text"
      },
      "source": [
        "<a href=\"https://colab.research.google.com/github/ashwanth10/Deep_Learning/blob/master/assignment_2_part_b.ipynb\" target=\"_parent\"><img src=\"https://colab.research.google.com/assets/colab-badge.svg\" alt=\"Open In Colab\"/></a>"
      ]
    },
    {
      "cell_type": "code",
      "source": [
        "# To install wandb package ,which is helpful in generating plots and report.\n",
        "!pip install wandb"
      ],
      "metadata": {
        "id": "6193fbc7",
        "execution": {
          "iopub.status.busy": "2022-03-30T10:26:29.110276Z",
          "iopub.execute_input": "2022-03-30T10:26:29.111052Z"
        },
        "trusted": true
      },
      "execution_count": null,
      "outputs": []
    },
    {
      "cell_type": "code",
      "source": [
        "# Libraries used\n",
        "import numpy as np\n",
        "\n",
        "# Keras libraries for CNN\n",
        "import tensorflow\n",
        "from tensorflow import keras\n",
        "from keras.models import Sequential\n",
        "from keras.layers import Dense, Flatten\n",
        "from keras_preprocessing.image import ImageDataGenerator\n",
        "\n",
        "# Import pre-trained models\n",
        "import tensorflow as tf\n",
        "from tensorflow.keras.optimizers import Adam\n",
        "from tensorflow.keras.preprocessing.image import ImageDataGenerator\n",
        "from tensorflow.keras.applications import InceptionV3, ResNet50, InceptionResNetV2, Xception\n",
        "\n",
        "import os\n",
        "\n",
        "import wandb\n",
        "from wandb.keras import WandbCallback"
      ],
      "metadata": {
        "id": "9GPFXxvLSryb",
        "trusted": true
      },
      "execution_count": null,
      "outputs": []
    },
    {
      "cell_type": "code",
      "source": [
        "# Load Dataset if not available\n",
        "if 'INaturalist_Dataset' not in os.listdir():\n",
        "    !git clone https://github.com/ashwanth10/INaturalist_Dataset.git"
      ],
      "metadata": {
        "id": "kZc-5U44St1c",
        "trusted": true
      },
      "execution_count": null,
      "outputs": []
    },
    {
      "cell_type": "markdown",
      "source": [
        "# Create Model based on config values"
      ],
      "metadata": {
        "id": "CUWEo0f_YBiy"
      }
    },
    {
      "cell_type": "code",
      "source": [
        "def build_model(config):\n",
        "\n",
        "    # Clear the session\n",
        "    tf.keras.backend.clear_session()\n",
        "    \n",
        "    # Based on pretrained model, create a base model\n",
        "    if config.pretrained_model == 'resnet50':\n",
        "        base_model = tf.keras.applications.ResNet152V2(weights=\"imagenet\", input_shape=(300, 300, 3), \n",
        "        classes=1000, classifier_activation=\"softmax\", include_top=False)\n",
        "    elif config.pretrained_model == 'inceptionV3':\n",
        "        base_model = tf.keras.applications.InceptionV3(weights=\"imagenet\", input_shape=(300, 300, 3), \n",
        "        classes=1000, classifier_activation=\"softmax\", include_top=False)\n",
        "    elif config.pretrained_model == 'inceptionresnetv2':\n",
        "        base_model = tf.keras.applications.InceptionResNetV2(weights=\"imagenet\", input_shape=(300, 300, 3), \n",
        "        classes=1000, classifier_activation=\"softmax\", include_top=False)\n",
        "    elif config.pretrained_model == 'xception':\n",
        "        base_model = tf.keras.applications.Xception(weights=\"imagenet\", input_shape=(300, 300, 3), \n",
        "        classes=1000, classifier_activation=\"softmax\", include_top=False)\n",
        "\n",
        "    # Freeze layers in base model to compute faster\n",
        "    total_no_of_layers_in_base_model = len(base_model.layers)\n",
        "    base_model.trainable = False\n",
        "    for i in range(total_no_of_layers_in_base_model - config.freeze_before, total_no_of_layers_in_base_model):\n",
        "        base_model.layers[i].trainable = True\n",
        "\n",
        "    # Create a new model using base model and dense layers\n",
        "    model = tf.keras.models.Sequential()\n",
        "    model.add(tf.keras.layers.experimental.preprocessing.RandomCrop(height=300, width=300))\n",
        "    model.add(tf.keras.Input(shape=(300, 300, 3)))\n",
        "    \n",
        "    # Add base model\n",
        "    model.add(base_model)\n",
        "    model.add(tf.keras.layers.Flatten())\n",
        "    if config.no_of_neurons_in_dense:\n",
        "        model.add(tf.keras.layers.Dense(1024, activation='relu'))\n",
        "    \n",
        "    # Add output layer\n",
        "    model.add(tf.keras.layers.Dense(10, activation='softmax'))\n",
        "\n",
        "    return model"
      ],
      "metadata": {
        "trusted": true,
        "id": "5Kl-hKqmYBi0"
      },
      "execution_count": null,
      "outputs": []
    },
    {
      "cell_type": "markdown",
      "source": [
        "# Sweep Config"
      ],
      "metadata": {
        "id": "C-1oErjUYBi4"
      }
    },
    {
      "cell_type": "code",
      "source": [
        "sweep_config = {\n",
        "    'method': 'random', \n",
        "    'metric': {\n",
        "      'name': 'accuracy',\n",
        "      'goal': 'maximize'   \n",
        "    },\n",
        "    'parameters': {\n",
        "        'pretrained_model' :{\n",
        "           'values' : ['resnet50','inceptionresnetv2', 'inceptionV3', 'xception']\n",
        "        },\n",
        "        'freeze_before' : {\n",
        "            'values': [50,70,100]\n",
        "        },\n",
        "        'no_of_neurons_in_dense':{\n",
        "            'values': [64, 128, 256, 512]\n",
        "        },\n",
        "        'epochs' : {\n",
        "            'values': [2]\n",
        "        },\n",
        "    }\n",
        "}"
      ],
      "metadata": {
        "trusted": true,
        "id": "n9OEM1EKYBi5"
      },
      "execution_count": null,
      "outputs": []
    },
    {
      "cell_type": "code",
      "source": [
        "# Initialize a new sweep\n",
        "sweep_id = wandb.sweep(sweep_config, entity=\"cs21m010-cs21m041\", project=\"DL_Assignment_2\")"
      ],
      "metadata": {
        "trusted": true,
        "id": "uKyr_qXnYBi7"
      },
      "execution_count": null,
      "outputs": []
    },
    {
      "cell_type": "code",
      "source": [
        "def train():\n",
        "    \n",
        "    # Set seed\n",
        "    np.random.seed(0)\n",
        "\n",
        "    wandb.init(config=sweep_config)\n",
        "    \n",
        "    # Config is a variable that holds and saves hyperparameters and inputs\n",
        "    config = wandb.config\n",
        "    wandb.run.name = 'part_B_epochs_{}_base_model_{}_dense_{}_freeze_before_{}'.format(config.epochs, config.pretrained_model, config.no_of_neurons_in_dense, config.freeze_before)\n",
        "\n",
        "    train_data = ImageDataGenerator(rescale=1. / 255).flow_from_directory('INaturalist_Dataset/train', shuffle=True, target_size=(400, 400))\n",
        "    val_data = ImageDataGenerator(rescale=1. / 255).flow_from_directory('INaturalist_Dataset/val', shuffle=True, target_size=(400, 400))\n",
        "\n",
        "    # Build model and train using a pre-trained model\n",
        "    model = build_model(config)\n",
        "    model.compile(optimizer=tf.keras.optimizers.Adam(), loss='categorical_crossentropy', metrics=[\"accuracy\"])\n",
        "    model.fit(train_data, steps_per_epoch=len(train_data), epochs=config.epochs, validation_data=val_data, callbacks=[WandbCallback()])"
      ],
      "metadata": {
        "trusted": true,
        "id": "dngsmHQGYBi9"
      },
      "execution_count": null,
      "outputs": []
    },
    {
      "cell_type": "code",
      "source": [
        "wandb.agent(sweep_id, train, count = 20)"
      ],
      "metadata": {
        "id": "7LoIHFknUUEN",
        "trusted": true
      },
      "execution_count": null,
      "outputs": []
    }
  ]
}