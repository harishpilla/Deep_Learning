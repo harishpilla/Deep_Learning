{
  "cells": [
    {
      "cell_type": "code",
      "execution_count": 2,
      "id": "d6857299",
      "metadata": {
        "id": "d6857299"
      },
      "outputs": [],
      "source": [
        "import numpy as np\n",
        "from sklearn.model_selection import train_test_split\n",
        "\n",
        "import os\n",
        "import random\n",
        "import cv2\n",
        "import imageio"
      ]
    },
    {
      "cell_type": "code",
      "source": [
        "# Load Dataset\n",
        "!git clone https://github.com/ashwanth10/INaturalist_Dataset.git"
      ],
      "metadata": {
        "id": "ATjCicBPOrdj",
        "outputId": "26ed7301-66eb-432a-f329-e31b807f2b96",
        "colab": {
          "base_uri": "https://localhost:8080/"
        }
      },
      "id": "ATjCicBPOrdj",
      "execution_count": 4,
      "outputs": [
        {
          "output_type": "stream",
          "name": "stdout",
          "text": [
            "fatal: destination path 'INaturalist_Dataset' already exists and is not an empty directory.\n"
          ]
        }
      ]
    },
    {
      "cell_type": "code",
      "source": [
        "# Labels for INaturalist Dataset\n",
        "class_labels = {\n",
        "    0: 'Amphibia',\n",
        "    1: 'Animalia',\n",
        "    2: 'Arachnida',\n",
        "    3: 'Aves',\n",
        "    4: 'Fungi',\n",
        "    5: 'Insecta', \n",
        "    6: 'Mammalia', \n",
        "    7: 'Mollusca', \n",
        "    8: 'Plantae',\n",
        "    9: 'Reptilia'\n",
        "}\n",
        "\n",
        "num_classes = 10\n",
        "img_size = 128\n",
        "directory = 'INaturalist_Dataset/train'\n",
        "\n",
        "# Load training data\n",
        "x_train = []\n",
        "y_train = []\n",
        "for label, name in class_labels.items():\n",
        "   list_images = os.listdir(directory + '/' + name)\n",
        "   for image_name in list_images:\n",
        "       try:\n",
        "          image = imageio.imread(directory +'/'+name+'/'+image_name)\n",
        "       except: \n",
        "          continue\n",
        "       if np.ndim(image) == 3:\n",
        "          x_train.append(cv2.resize(image, (img_size, img_size)))\n",
        "          y_train.append(label)\n",
        "       else: \n",
        "          # Some images are black and white\n",
        "          print(image_name)"
      ],
      "metadata": {
        "id": "RzEiY0HWPBlR",
        "outputId": "e5aad1dc-6e64-41ff-f49f-82b88bbfce14",
        "colab": {
          "base_uri": "https://localhost:8080/"
        }
      },
      "id": "RzEiY0HWPBlR",
      "execution_count": 5,
      "outputs": [
        {
          "output_type": "stream",
          "name": "stdout",
          "text": [
            "aa66b3ba5ccffdb3c41c1d3acf7dd569.jpg\n",
            "2fad1ed3a05629c089cd530f297e27e6.jpg\n",
            "d192b73b0af85824c65e91f8795d8df7.jpg\n"
          ]
        }
      ]
    },
    {
      "cell_type": "code",
      "source": [
        "x_train = np.array(x_train)\n",
        "y_train = np.array(y_train)"
      ],
      "metadata": {
        "id": "OkxW1BOuPD9v"
      },
      "id": "OkxW1BOuPD9v",
      "execution_count": 6,
      "outputs": []
    },
    {
      "cell_type": "code",
      "source": [
        "# Set seed\n",
        "np.random.seed(0)"
      ],
      "metadata": {
        "id": "yORpCp68PGXd"
      },
      "id": "yORpCp68PGXd",
      "execution_count": 7,
      "outputs": []
    },
    {
      "cell_type": "code",
      "source": [
        "x_train, x_val, y_train, y_val = train_test_split(x_train, y_train,\n",
        "                                                  test_size=0.1, \n",
        "                                                  stratify=y_train,\n",
        "                                                  random_state=42)"
      ],
      "metadata": {
        "id": "sH_okn6PPJOG"
      },
      "id": "sH_okn6PPJOG",
      "execution_count": 8,
      "outputs": []
    },
    {
      "cell_type": "code",
      "source": [
        "# normalize data\n",
        "x_train = x_train / 255\n",
        "x_val = x_val / 255"
      ],
      "metadata": {
        "id": "cuJBTtupPKla"
      },
      "id": "cuJBTtupPKla",
      "execution_count": 9,
      "outputs": []
    },
    {
      "cell_type": "code",
      "source": [
        "# One-hot encoding\n",
        "targs = np.zeros((len(y_train), 10, 1))\n",
        "for i in range(len(y_train)):\n",
        "    targs[i][y_train[i]][0] = 1 # preparing the target matrix \n",
        "\n",
        "y_train = targs"
      ],
      "metadata": {
        "id": "_0VRlcAJPMf6"
      },
      "id": "_0VRlcAJPMf6",
      "execution_count": 10,
      "outputs": []
    },
    {
      "cell_type": "code",
      "source": [
        "targs_val = np.zeros((len(y_val), 10, 1))\n",
        "for i in range(len(y_val)):\n",
        "    targs_val[i][y_val[i]][0] = 1 # preparing the target matrix \n",
        "\n",
        "y_val = targs_val"
      ],
      "metadata": {
        "id": "MnSknEjLPN6P"
      },
      "id": "MnSknEjLPN6P",
      "execution_count": 11,
      "outputs": []
    }
  ],
  "metadata": {
    "kernelspec": {
      "display_name": "Python 3 (ipykernel)",
      "language": "python",
      "name": "python3"
    },
    "language_info": {
      "codemirror_mode": {
        "name": "ipython",
        "version": 3
      },
      "file_extension": ".py",
      "mimetype": "text/x-python",
      "name": "python",
      "nbconvert_exporter": "python",
      "pygments_lexer": "ipython3",
      "version": "3.9.7"
    },
    "colab": {
      "name": "assignment_2.ipynb",
      "provenance": []
    },
    "accelerator": "GPU"
  },
  "nbformat": 4,
  "nbformat_minor": 5
}