{
  "cells": [
    {
      "cell_type": "code",
      "source": [
        "#To install wandb package ,which is helpful in generating plots and report.\n",
        "!pip install wandb"
      ],
      "metadata": {
        "colab": {
          "base_uri": "https://localhost:8080/"
        },
        "id": "UhgT21iuJsCl",
        "outputId": "92ba4cfc-0ce0-45a3-c980-52a0ad5faa7d"
      },
      "id": "UhgT21iuJsCl",
      "execution_count": 35,
      "outputs": [
        {
          "output_type": "stream",
          "name": "stdout",
          "text": [
            "Requirement already satisfied: wandb in /usr/local/lib/python3.7/dist-packages (0.12.11)\n",
            "Requirement already satisfied: GitPython>=1.0.0 in /usr/local/lib/python3.7/dist-packages (from wandb) (3.1.27)\n",
            "Requirement already satisfied: six>=1.13.0 in /usr/local/lib/python3.7/dist-packages (from wandb) (1.15.0)\n",
            "Requirement already satisfied: PyYAML in /usr/local/lib/python3.7/dist-packages (from wandb) (3.13)\n",
            "Requirement already satisfied: promise<3,>=2.0 in /usr/local/lib/python3.7/dist-packages (from wandb) (2.3)\n",
            "Requirement already satisfied: requests<3,>=2.0.0 in /usr/local/lib/python3.7/dist-packages (from wandb) (2.23.0)\n",
            "Requirement already satisfied: shortuuid>=0.5.0 in /usr/local/lib/python3.7/dist-packages (from wandb) (1.0.8)\n",
            "Requirement already satisfied: setproctitle in /usr/local/lib/python3.7/dist-packages (from wandb) (1.2.2)\n",
            "Requirement already satisfied: yaspin>=1.0.0 in /usr/local/lib/python3.7/dist-packages (from wandb) (2.1.0)\n",
            "Requirement already satisfied: psutil>=5.0.0 in /usr/local/lib/python3.7/dist-packages (from wandb) (5.4.8)\n",
            "Requirement already satisfied: sentry-sdk>=1.0.0 in /usr/local/lib/python3.7/dist-packages (from wandb) (1.5.8)\n",
            "Requirement already satisfied: docker-pycreds>=0.4.0 in /usr/local/lib/python3.7/dist-packages (from wandb) (0.4.0)\n",
            "Requirement already satisfied: protobuf>=3.12.0 in /usr/local/lib/python3.7/dist-packages (from wandb) (3.17.3)\n",
            "Requirement already satisfied: python-dateutil>=2.6.1 in /usr/local/lib/python3.7/dist-packages (from wandb) (2.8.2)\n",
            "Requirement already satisfied: pathtools in /usr/local/lib/python3.7/dist-packages (from wandb) (0.1.2)\n",
            "Requirement already satisfied: Click!=8.0.0,>=7.0 in /usr/local/lib/python3.7/dist-packages (from wandb) (7.1.2)\n",
            "Requirement already satisfied: gitdb<5,>=4.0.1 in /usr/local/lib/python3.7/dist-packages (from GitPython>=1.0.0->wandb) (4.0.9)\n",
            "Requirement already satisfied: typing-extensions>=3.7.4.3 in /usr/local/lib/python3.7/dist-packages (from GitPython>=1.0.0->wandb) (3.10.0.2)\n",
            "Requirement already satisfied: smmap<6,>=3.0.1 in /usr/local/lib/python3.7/dist-packages (from gitdb<5,>=4.0.1->GitPython>=1.0.0->wandb) (5.0.0)\n",
            "Requirement already satisfied: certifi>=2017.4.17 in /usr/local/lib/python3.7/dist-packages (from requests<3,>=2.0.0->wandb) (2021.10.8)\n",
            "Requirement already satisfied: chardet<4,>=3.0.2 in /usr/local/lib/python3.7/dist-packages (from requests<3,>=2.0.0->wandb) (3.0.4)\n",
            "Requirement already satisfied: idna<3,>=2.5 in /usr/local/lib/python3.7/dist-packages (from requests<3,>=2.0.0->wandb) (2.10)\n",
            "Requirement already satisfied: urllib3!=1.25.0,!=1.25.1,<1.26,>=1.21.1 in /usr/local/lib/python3.7/dist-packages (from requests<3,>=2.0.0->wandb) (1.24.3)\n",
            "Requirement already satisfied: termcolor<2.0.0,>=1.1.0 in /usr/local/lib/python3.7/dist-packages (from yaspin>=1.0.0->wandb) (1.1.0)\n"
          ]
        }
      ]
    },
    {
      "cell_type": "code",
      "execution_count": 36,
      "id": "d6857299",
      "metadata": {
        "id": "d6857299"
      },
      "outputs": [],
      "source": [
        "# Essentials\n",
        "import numpy as np\n",
        "import tensorflow\n",
        "from tensorflow import keras\n",
        "from keras import regularizers\n",
        "from keras.models import Sequential\n",
        "from keras.utils import np_utils\n",
        "from tensorflow.keras.optimizers import Adam\n",
        "from tensorflow.keras.preprocessing.image import ImageDataGenerator\n",
        "from keras.layers import Dense, Flatten, Conv2D, BatchNormalization, Dropout, MaxPooling2D, Activation\n",
        "import wandb\n",
        "from wandb.keras import WandbCallback\n",
        "from sklearn.model_selection import train_test_split\n",
        "import matplotlib.pyplot as plt\n",
        "from matplotlib import gridspec\n",
        "\n",
        "import random\n",
        "import imageio\n",
        "import os\n",
        "import cv2\n",
        "import glob\n",
        "# random.seed(42)"
      ]
    },
    {
      "cell_type": "markdown",
      "source": [
        "### Download INaturalist Dataset from github repo"
      ],
      "metadata": {
        "id": "3zxw9OkwuRDD"
      },
      "id": "3zxw9OkwuRDD"
    },
    {
      "cell_type": "code",
      "source": [
        "# Load Dataset\n",
        "!git clone https://github.com/ashwanth10/INaturalist_Dataset.git"
      ],
      "metadata": {
        "id": "ATjCicBPOrdj",
        "outputId": "8ec0d63f-d6e3-4b2c-922a-8a1342b4cef1",
        "colab": {
          "base_uri": "https://localhost:8080/"
        }
      },
      "id": "ATjCicBPOrdj",
      "execution_count": 37,
      "outputs": [
        {
          "output_type": "stream",
          "name": "stdout",
          "text": [
            "fatal: destination path 'INaturalist_Dataset' already exists and is not an empty directory.\n"
          ]
        }
      ]
    },
    {
      "cell_type": "markdown",
      "source": [
        "## Preprocess Train & Test Data"
      ],
      "metadata": {
        "id": "1gGFxmJyuYo1"
      },
      "id": "1gGFxmJyuYo1"
    },
    {
      "cell_type": "code",
      "source": [
        "# Labels for INaturalist Dataset\n",
        "class_labels = {\n",
        "    0: 'Amphibia',\n",
        "    1: 'Animalia',\n",
        "    2: 'Arachnida',\n",
        "    3: 'Aves',\n",
        "    4: 'Fungi',\n",
        "    5: 'Insecta', \n",
        "    6: 'Mammalia', \n",
        "    7: 'Mollusca', \n",
        "    8: 'Plantae',\n",
        "    9: 'Reptilia'\n",
        "}\n",
        "\n",
        "num_classes = 10\n",
        "img_size = 128\n",
        "directory_train = 'INaturalist_Dataset/train'\n",
        "directory_test  = 'INaturalist_Dataset/val'\n",
        "\n",
        "# Load training data\n",
        "x_train = []\n",
        "y_train = []\n",
        "for label, name in class_labels.items():\n",
        "   list_images = os.listdir(directory_train + '/' + name)\n",
        "   for image_name in list_images:\n",
        "       try:\n",
        "          image = imageio.imread(directory_train +'/'+name+'/'+image_name)\n",
        "       except: \n",
        "          continue\n",
        "       if np.ndim(image) == 3:\n",
        "          x_train.append(cv2.resize(image, (img_size, img_size)))\n",
        "          y_train.append(label)\n",
        "       else: \n",
        "          # Some images are black and white\n",
        "          print(image_name)\n",
        "\n",
        "# Load testing data\n",
        "x_test = []\n",
        "y_test = []\n",
        "for label, name in class_labels.items():\n",
        "   list_images = os.listdir(directory_test + '/' + name)\n",
        "   for image_name in list_images:\n",
        "       try:\n",
        "          image = imageio.imread(directory_test +'/'+name+'/'+image_name)\n",
        "       except: \n",
        "          continue\n",
        "       if np.ndim(image) == 3:\n",
        "          x_test.append(cv2.resize(image, (img_size, img_size)))\n",
        "          y_test.append(label)\n",
        "       else: \n",
        "          # Some images are black and white\n",
        "          print(image_name)"
      ],
      "metadata": {
        "id": "RzEiY0HWPBlR",
        "outputId": "559a432a-cc92-4531-84d0-ade0621fa088",
        "colab": {
          "base_uri": "https://localhost:8080/"
        }
      },
      "id": "RzEiY0HWPBlR",
      "execution_count": 38,
      "outputs": [
        {
          "output_type": "stream",
          "name": "stdout",
          "text": [
            "aa66b3ba5ccffdb3c41c1d3acf7dd569.jpg\n",
            "d192b73b0af85824c65e91f8795d8df7.jpg\n",
            "2fad1ed3a05629c089cd530f297e27e6.jpg\n"
          ]
        }
      ]
    },
    {
      "cell_type": "code",
      "source": [
        "#converting training list into numpy arrays.\n",
        "x_train = np.array(x_train)\n",
        "y_train = np.array(y_train)\n",
        "\n",
        "#converting test list into numpy arrays.\n",
        "x_test = np.array(x_test)\n",
        "y_test = np.array(y_test)\n"
      ],
      "metadata": {
        "id": "OkxW1BOuPD9v"
      },
      "id": "OkxW1BOuPD9v",
      "execution_count": 39,
      "outputs": []
    },
    {
      "cell_type": "code",
      "source": [
        "# Set seed\n",
        "np.random.seed(0)"
      ],
      "metadata": {
        "id": "yORpCp68PGXd"
      },
      "id": "yORpCp68PGXd",
      "execution_count": 40,
      "outputs": []
    },
    {
      "cell_type": "code",
      "source": [
        "x_train, x_val, y_train, y_val = train_test_split(x_train, y_train,\n",
        "                                                  test_size=0.1, \n",
        "                                                  stratify=y_train,\n",
        "                                                  random_state=42)"
      ],
      "metadata": {
        "id": "sH_okn6PPJOG"
      },
      "id": "sH_okn6PPJOG",
      "execution_count": 41,
      "outputs": []
    },
    {
      "cell_type": "code",
      "source": [
        "# normalize training data\n",
        "x_train = x_train / 255\n",
        "x_val = x_val / 255\n",
        "\n",
        "#normalize testing data\n",
        "x_test = x_test / 255"
      ],
      "metadata": {
        "id": "cuJBTtupPKla"
      },
      "id": "cuJBTtupPKla",
      "execution_count": 42,
      "outputs": []
    },
    {
      "cell_type": "code",
      "source": [
        "# One-hot encoding for training data\n",
        "targs = np.zeros((len(y_train), 10, 1))\n",
        "for i in range(len(y_train)):\n",
        "    targs[i][y_train[i]][0] = 1 # preparing the target matrix \n",
        "\n",
        "y_train = targs"
      ],
      "metadata": {
        "id": "_0VRlcAJPMf6"
      },
      "id": "_0VRlcAJPMf6",
      "execution_count": 43,
      "outputs": []
    },
    {
      "cell_type": "code",
      "source": [
        "# One-hot encoding for validation data\n",
        "targs_val = np.zeros((len(y_val), 10, 1))\n",
        "for i in range(len(y_val)):\n",
        "    targs_val[i][y_val[i]][0] = 1 # preparing the target matrix \n",
        "\n",
        "y_val = targs_val"
      ],
      "metadata": {
        "id": "MnSknEjLPN6P"
      },
      "id": "MnSknEjLPN6P",
      "execution_count": 44,
      "outputs": []
    },
    {
      "cell_type": "code",
      "source": [
        "# One-hot encoding for testing data\n",
        "targs_test = np.zeros((len(y_test), 10, 1))\n",
        "for i in range(len(y_test)):\n",
        "    targs_test[i][y_test[i]][0] = 1 # preparing the target matrix \n",
        "\n",
        "y_test = targs_test"
      ],
      "metadata": {
        "id": "W76uzDI6LJ8a"
      },
      "id": "W76uzDI6LJ8a",
      "execution_count": 45,
      "outputs": []
    },
    {
      "cell_type": "markdown",
      "source": [
        "# Functions and some helper Functions"
      ],
      "metadata": {
        "id": "T7TvvTLuuHfb"
      },
      "id": "T7TvvTLuuHfb"
    },
    {
      "cell_type": "code",
      "source": [
        "def addActivation(model, activation_name):\n",
        "    if activation_name == \"relu\":\n",
        "        model.add(Activation('relu'))\n",
        "    elif activation_name == \"elu\":\n",
        "        model.add(Activation('elu'))\n",
        "    elif activation_name == \"selu\":\n",
        "        model.add(Activation('selu'))"
      ],
      "metadata": {
        "id": "njzewgfwJBCx"
      },
      "id": "njzewgfwJBCx",
      "execution_count": 46,
      "outputs": []
    },
    {
      "cell_type": "code",
      "source": [
        "def configureBatchNormalization(model, do_batch_normalisation):\n",
        "    if do_batch_normalisation:\n",
        "        model.add(BatchNormalization())"
      ],
      "metadata": {
        "id": "cNqveD3-JA_l"
      },
      "id": "cNqveD3-JA_l",
      "execution_count": 47,
      "outputs": []
    },
    {
      "cell_type": "code",
      "source": [
        "def calculateTestAccuracy(model,x_test,y_test):\n",
        "  yhat=model.predict(x_test)\n",
        "  yhat_max = np.argmax(yhat, axis=1)\n",
        "  y_test_max = np.argmax(y_test, axis=1)\n",
        "  y_test_max = y_test_max.reshape(-1)\n",
        "  accuracy= (yhat_max == y_test_max).sum()/ y_test.shape[0]\n",
        "  print('accuracy: ', accuracy)"
      ],
      "metadata": {
        "id": "gC-f6YzeKTra"
      },
      "id": "gC-f6YzeKTra",
      "execution_count": 48,
      "outputs": []
    },
    {
      "cell_type": "code",
      "source": [
        "def train_with_params(x_train, y_train, x_val, y_val, x_test, y_test,\n",
        "                      filter, kernel_size, input_shape, weight_decay, \n",
        "                      activation_name, do_batch_normalisation, neurons_in_dense,\n",
        "                      dropout, num_classes, learning_rate, batch_size,\n",
        "                      do_data_augmentation, manual_run=False):\n",
        "\n",
        "    # clear session\n",
        "    tensorflow.keras.backend.clear_session()\n",
        "\n",
        "    # Define the model architecture\n",
        "    model = Sequential()\n",
        "\n",
        "    # no. of convolution layers\n",
        "    NUM_OF_CONV_LAYERS = 5\n",
        "\n",
        "    for i in range(NUM_OF_CONV_LAYERS):\n",
        "        model.add(Conv2D(filters = filter[i], kernel_size = kernel_size[i],\n",
        "                          padding = 'same', input_shape = input_shape, \n",
        "                          kernel_regularizer=regularizers.l2(weight_decay)))\n",
        "        \n",
        "        addActivation(model, activation_name)\n",
        "        configureBatchNormalization(model, do_batch_normalisation)\n",
        "        model.add(MaxPooling2D(pool_size=(2, 2))) \n",
        "    \n",
        "    # Fully connected  layer\n",
        "    model.add(Flatten())\n",
        "    model.add(Dense(neurons_in_dense, activation=activation_name, kernel_regularizer=regularizers.l2(weight_decay)))\n",
        "    model.add(Dropout(dropout))\n",
        "    model.add(BatchNormalization())\n",
        "\n",
        "    # Output layer\n",
        "    model.add(Dense(num_classes, activation = \"softmax\"))\n",
        "\n",
        "    # Define the optimizer\n",
        "    optimizer = Adam(lr=learning_rate, beta_1=0.9, beta_2=0.999)\n",
        "    \n",
        "    model.compile(loss = \"categorical_crossentropy\", optimizer = optimizer, metrics=['accuracy'])\n",
        "\n",
        "    # Data augmentation\n",
        "    if do_data_augmentation:\n",
        "        datagen = ImageDataGenerator(\n",
        "            rotation_range=45,  # randomly rotate images in the range (degrees, 0 to 180)\n",
        "            width_shift_range=0.2,  # randomly shift images horizontally (fraction of total width)\n",
        "            height_shift_range=0.1,  # randomly shift images vertically (fraction of total height)\n",
        "            horizontal_flip=True,  # randomly flip images\n",
        "            vertical_flip=False  # randomly flip images\n",
        "        )\n",
        "    else:\n",
        "        datagen = ImageDataGenerator(rescale = 1.0)\n",
        "\n",
        "    datagen.fit(x_train)\n",
        "    \n",
        "    # Call Wandb Only when initiated.\n",
        "    if manual_run:\n",
        "        model.fit(datagen.flow(x_train, y_train, batch_size=batch_size),\n",
        "        epochs = 1,\n",
        "        verbose = 1,\n",
        "        validation_data= (x_val, y_val))\n",
        "    else: \n",
        "        model.fit(datagen.flow(x_train, y_train, batch_size=batch_size),\n",
        "        epochs = 1,\n",
        "        verbose = 1,\n",
        "        validation_data= (x_val, y_val),\n",
        "        callbacks = [WandbCallback()])\n",
        "\n",
        "    # Calculate accuracy of the model\n",
        "    calculateTestAccuracy(model, x_test, y_test)\n",
        "    model.save('/content/drive/MyDrive/Models/model.keras')\n",
        "    \n",
        "    return model"
      ],
      "metadata": {
        "id": "W4-d36IHkbn3"
      },
      "id": "W4-d36IHkbn3",
      "execution_count": 49,
      "outputs": []
    },
    {
      "cell_type": "markdown",
      "source": [
        "## WandB Config Params for the Sweeps"
      ],
      "metadata": {
        "id": "PAUzZC7kt_3-"
      },
      "id": "PAUzZC7kt_3-"
    },
    {
      "cell_type": "code",
      "source": [
        "sweep_config = {\n",
        "    'method': 'random', \n",
        "    'metric': {\n",
        "      'name': 'accuracy',\n",
        "      'goal': 'maximize'   \n",
        "    },\n",
        "    'parameters': {\n",
        "        'kernel_size':{\n",
        "            'values': [[(3,3),(3,3),(3,3),(3,3),(3,3)], [(3,3),(5,5),(5,5),(7,7),(7,7)], [(7,7),(7,7),(5,5),(5,5),(3,3)], [(3,3),(5,5),(7,7),(9,9),(11,11)] ]\n",
        "        },\n",
        "        'weight_decay': {\n",
        "            'values': [0, 0.0005, 0.005]\n",
        "        },\n",
        "        'dropout': {\n",
        "            'values': [0, 0.2, 0.4]\n",
        "        },\n",
        "        'learning_rate': {\n",
        "            'values': [1e-3, 1e-4]\n",
        "        },\n",
        "        'activation': {\n",
        "            'values': ['relu', 'elu', 'selu']\n",
        "        },\n",
        "        'batch_norm':{\n",
        "            'values': [True, False]\n",
        "        },\n",
        "        'filt_org':{\n",
        "            'values': [[32,32,32,32,32],[32,64,64,128,128],[128,128,64,64,32],[32,64,128,256,512]]\n",
        "        },\n",
        "        'data_augment': {\n",
        "            'values': [True, False]\n",
        "        },\n",
        "        'batch_size': {\n",
        "            'values': [32, 64]\n",
        "        },\n",
        "        'num_dense':{\n",
        "            'values': [64, 128, 256, 512]\n",
        "        }\n",
        "    }\n",
        "}"
      ],
      "metadata": {
        "id": "qQ67G9XtI-qC"
      },
      "id": "qQ67G9XtI-qC",
      "execution_count": 50,
      "outputs": []
    },
    {
      "cell_type": "code",
      "source": [
        "sweep_id = wandb.sweep(sweep_config, entity=\"cs21m010-cs21m041\", project=\"DL_Assignment_2\")"
      ],
      "metadata": {
        "colab": {
          "base_uri": "https://localhost:8080/"
        },
        "id": "bmoABCXIJBIu",
        "outputId": "d0d5b32e-8958-45db-efbf-a7b96b669959"
      },
      "id": "bmoABCXIJBIu",
      "execution_count": 51,
      "outputs": [
        {
          "output_type": "stream",
          "name": "stdout",
          "text": [
            "Create sweep with ID: mi1lqu26\n",
            "Sweep URL: https://wandb.ai/cs21m010-cs21m041/DL_Assignment_2/sweeps/mi1lqu26\n"
          ]
        }
      ]
    },
    {
      "cell_type": "markdown",
      "source": [
        "# Run WandB Sweeps"
      ],
      "metadata": {
        "id": "dtcNmcvgt1by"
      },
      "id": "dtcNmcvgt1by"
    },
    {
      "cell_type": "code",
      "source": [
        "def train():\n",
        "\n",
        "    # Initialize a new wandb run\n",
        "    wandb.init(config=sweep_config)\n",
        "    \n",
        "    # Config is a variable that holds and saves hyperparameters and inputs\n",
        "    config = wandb.config\n",
        "    wandb.run.name = 'num_dense_'+ str(config.num_dense)+'_bs_'+str(config.batch_size)+'_ac_'+ config.activation\n",
        "    \n",
        "    # Determine input shape\n",
        "    input_shape = (img_size, img_size , 3)\n",
        "    \n",
        "    train_with_params(x_train, y_train, x_val, y_val, x_test, y_test,\n",
        "                      config.filt_org, config.kernel_size, input_shape, \n",
        "                      config.weight_decay, config.activation, config.batch_norm, \n",
        "                      config.num_dense, config.dropout, num_classes, \n",
        "                      config.learning_rate, config.batch_size, config.data_augment)\n",
        "    "
      ],
      "metadata": {
        "id": "OrjZY4ZTJA8r"
      },
      "id": "OrjZY4ZTJA8r",
      "execution_count": 52,
      "outputs": []
    },
    {
      "cell_type": "code",
      "source": [
        "wandb.agent(sweep_id, train, count = 1)"
      ],
      "metadata": {
        "colab": {
          "base_uri": "https://localhost:8080/",
          "height": 365
        },
        "id": "i-V9yLcNJAxm",
        "outputId": "68e34271-5324-435b-ffe0-1c5cec02f964"
      },
      "id": "i-V9yLcNJAxm",
      "execution_count": null,
      "outputs": [
        {
          "output_type": "stream",
          "name": "stderr",
          "text": [
            "\u001b[34m\u001b[1mwandb\u001b[0m: \u001b[33mWARNING\u001b[0m Calling wandb.login() after wandb.init() has no effect.\n",
            "\u001b[34m\u001b[1mwandb\u001b[0m: Agent Starting Run: j9yambrc with config:\n",
            "\u001b[34m\u001b[1mwandb\u001b[0m: \tactivation: selu\n",
            "\u001b[34m\u001b[1mwandb\u001b[0m: \tbatch_norm: True\n",
            "\u001b[34m\u001b[1mwandb\u001b[0m: \tbatch_size: 32\n",
            "\u001b[34m\u001b[1mwandb\u001b[0m: \tdata_augment: True\n",
            "\u001b[34m\u001b[1mwandb\u001b[0m: \tdropout: 0\n",
            "\u001b[34m\u001b[1mwandb\u001b[0m: \tfilt_org: [128, 128, 64, 64, 32]\n",
            "\u001b[34m\u001b[1mwandb\u001b[0m: \tkernel_size: [[3, 3], [5, 5], [7, 7], [9, 9], [11, 11]]\n",
            "\u001b[34m\u001b[1mwandb\u001b[0m: \tlearning_rate: 0.001\n",
            "\u001b[34m\u001b[1mwandb\u001b[0m: \tnum_dense: 128\n",
            "\u001b[34m\u001b[1mwandb\u001b[0m: \tweight_decay: 0.005\n"
          ]
        },
        {
          "output_type": "display_data",
          "data": {
            "text/plain": [
              "<IPython.core.display.HTML object>"
            ],
            "text/html": [
              "Tracking run with wandb version 0.12.11"
            ]
          },
          "metadata": {}
        },
        {
          "output_type": "display_data",
          "data": {
            "text/plain": [
              "<IPython.core.display.HTML object>"
            ],
            "text/html": [
              "Run data is saved locally in <code>/content/wandb/run-20220328_181536-j9yambrc</code>"
            ]
          },
          "metadata": {}
        },
        {
          "output_type": "display_data",
          "data": {
            "text/plain": [
              "<IPython.core.display.HTML object>"
            ],
            "text/html": [
              "Syncing run <strong><a href=\"https://wandb.ai/cs21m010-cs21m041/DL_Assignment_2/runs/j9yambrc\" target=\"_blank\">cosmic-sweep-1</a></strong> to <a href=\"https://wandb.ai/cs21m010-cs21m041/DL_Assignment_2\" target=\"_blank\">Weights & Biases</a> (<a href=\"https://wandb.me/run\" target=\"_blank\">docs</a>)<br/>Sweep page:  <a href=\"https://wandb.ai/cs21m010-cs21m041/DL_Assignment_2/sweeps/mi1lqu26\" target=\"_blank\">https://wandb.ai/cs21m010-cs21m041/DL_Assignment_2/sweeps/mi1lqu26</a>"
            ]
          },
          "metadata": {}
        },
        {
          "output_type": "stream",
          "name": "stderr",
          "text": [
            "/usr/local/lib/python3.7/dist-packages/keras/optimizer_v2/adam.py:105: UserWarning: The `lr` argument is deprecated, use `learning_rate` instead.\n",
            "  super(Adam, self).__init__(name, **kwargs)\n"
          ]
        },
        {
          "output_type": "stream",
          "name": "stdout",
          "text": [
            "131/282 [============>.................] - ETA: 28:25 - loss: 4.7711 - accuracy: 0.1899"
          ]
        }
      ]
    },
    {
      "cell_type": "markdown",
      "source": [
        "# Get the Best Model"
      ],
      "metadata": {
        "id": "U45_vBqXtrOn"
      },
      "id": "U45_vBqXtrOn"
    },
    {
      "cell_type": "code",
      "source": [
        "best_kernel_size = [(3,3),(3,3),(3,3),(3,3),(3,3)]\n",
        "best_weight_decay = 0.005\n",
        "best_dropout = 0.4\n",
        "best_learning_rate = 0.0001\n",
        "best_activation = 'elu'\n",
        "best_batch_size = 64\n",
        "best_batch_norm = False\n",
        "best_filt_org = [32,64,128,256,512]\n",
        "best_data_augment = True\n",
        "best_num_dense = 128\n",
        "input_shape = (img_size, img_size , 3)\n",
        "\n",
        "model = train_with_params(x_train, y_train, x_val, y_val, x_test, y_test,\n",
        "                      best_filt_org, best_kernel_size, input_shape, \n",
        "                      best_weight_decay, best_activation, best_batch_norm, \n",
        "                      best_num_dense, best_dropout, num_classes, \n",
        "                      best_learning_rate, best_batch_size, best_data_augment, manual_run=True)"
      ],
      "metadata": {
        "id": "TXFLUd0bo-I5"
      },
      "id": "TXFLUd0bo-I5",
      "execution_count": null,
      "outputs": []
    },
    {
      "cell_type": "markdown",
      "source": [
        "# Visualize Data"
      ],
      "metadata": {
        "id": "Ox9aJtlFtwqm"
      },
      "id": "Ox9aJtlFtwqm"
    },
    {
      "cell_type": "code",
      "source": [
        "vis_test_images = []\n",
        "vis_true_labels = []\n",
        "for label, name in class_labels.items():\n",
        "    list_images = os.listdir(directory_test + '/' + name)\n",
        "\n",
        "    # Capture 3 random images as demo images\n",
        "    for j in range(3):\n",
        "        dummy = random.randint(0, 199)\n",
        "        image = imageio.imread(directory_test + '/' + name + '/' + list_images[dummy])\n",
        "        if np.ndim(image) == 3:\n",
        "            vis_test_images.append(cv2.resize(image, (img_size,img_size)))\n",
        "            vis_true_labels.append(class_labels[label])\n",
        "\n",
        "vis_test_images = np.array(vis_test_images)\n",
        "vis_test_images = vis_test_images / 255\n",
        "\n",
        "# Plotting the figure\n",
        "fig = plt.figure(figsize=(60,50))\n",
        "\n",
        "gs = gridspec.GridSpec(10, 3, width_ratios=[1, 1, 1], wspace=0.0, hspace=1.0, top=0.95, bottom=0.05, left=0.7, right=0.845) \n",
        "k = 0\n",
        "for i in range(10):\n",
        "    for j in range(3):\n",
        "      ax = plt.subplot(gs[i,j])\n",
        "      img = vis_test_images[k]\n",
        "      ax.imshow(img)\n",
        "      prediction = model.predict(img.reshape(1,128, 128, 3))[0]\n",
        "      true_label = vis_true_labels[k]\n",
        "      k = k + 1\n",
        "      ax.axis('off')\n",
        "      ax.set_title(\"True Label: \" + true_label + \"\\nPredicted: \" + class_labels[np.argmax(prediction)])\n",
        "\n",
        "plt.show()\n"
      ],
      "metadata": {
        "id": "qjUIXxeSoUOd"
      },
      "id": "qjUIXxeSoUOd",
      "execution_count": null,
      "outputs": []
    }
  ],
  "metadata": {
    "kernelspec": {
      "display_name": "Python 3 (ipykernel)",
      "language": "python",
      "name": "python3"
    },
    "language_info": {
      "codemirror_mode": {
        "name": "ipython",
        "version": 3
      },
      "file_extension": ".py",
      "mimetype": "text/x-python",
      "name": "python",
      "nbconvert_exporter": "python",
      "pygments_lexer": "ipython3",
      "version": "3.9.7"
    },
    "colab": {
      "name": "assignment_2.ipynb",
      "provenance": []
    }
  },
  "nbformat": 4,
  "nbformat_minor": 5
}