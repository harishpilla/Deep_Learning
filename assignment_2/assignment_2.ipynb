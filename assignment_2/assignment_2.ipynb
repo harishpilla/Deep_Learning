{
  "cells": [
    {
      "cell_type": "code",
      "source": [
        "#To install wandb package ,which is helpful in generating plots and report.\n",
        "!pip install wandb"
      ],
      "metadata": {
        "colab": {
          "base_uri": "https://localhost:8080/"
        },
        "id": "UhgT21iuJsCl",
        "outputId": "4319a68a-6fbf-4952-e352-fad16690d1e1"
      },
      "id": "UhgT21iuJsCl",
      "execution_count": 1,
      "outputs": [
        {
          "output_type": "stream",
          "name": "stdout",
          "text": [
            "Requirement already satisfied: wandb in /usr/local/lib/python3.7/dist-packages (0.12.11)\n",
            "Requirement already satisfied: pathtools in /usr/local/lib/python3.7/dist-packages (from wandb) (0.1.2)\n",
            "Requirement already satisfied: setproctitle in /usr/local/lib/python3.7/dist-packages (from wandb) (1.2.2)\n",
            "Requirement already satisfied: requests<3,>=2.0.0 in /usr/local/lib/python3.7/dist-packages (from wandb) (2.23.0)\n",
            "Requirement already satisfied: shortuuid>=0.5.0 in /usr/local/lib/python3.7/dist-packages (from wandb) (1.0.8)\n",
            "Requirement already satisfied: protobuf>=3.12.0 in /usr/local/lib/python3.7/dist-packages (from wandb) (3.17.3)\n",
            "Requirement already satisfied: yaspin>=1.0.0 in /usr/local/lib/python3.7/dist-packages (from wandb) (2.1.0)\n",
            "Requirement already satisfied: promise<3,>=2.0 in /usr/local/lib/python3.7/dist-packages (from wandb) (2.3)\n",
            "Requirement already satisfied: six>=1.13.0 in /usr/local/lib/python3.7/dist-packages (from wandb) (1.15.0)\n",
            "Requirement already satisfied: python-dateutil>=2.6.1 in /usr/local/lib/python3.7/dist-packages (from wandb) (2.8.2)\n",
            "Requirement already satisfied: GitPython>=1.0.0 in /usr/local/lib/python3.7/dist-packages (from wandb) (3.1.27)\n",
            "Requirement already satisfied: docker-pycreds>=0.4.0 in /usr/local/lib/python3.7/dist-packages (from wandb) (0.4.0)\n",
            "Requirement already satisfied: psutil>=5.0.0 in /usr/local/lib/python3.7/dist-packages (from wandb) (5.4.8)\n",
            "Requirement already satisfied: Click!=8.0.0,>=7.0 in /usr/local/lib/python3.7/dist-packages (from wandb) (7.1.2)\n",
            "Requirement already satisfied: PyYAML in /usr/local/lib/python3.7/dist-packages (from wandb) (3.13)\n",
            "Requirement already satisfied: sentry-sdk>=1.0.0 in /usr/local/lib/python3.7/dist-packages (from wandb) (1.5.8)\n",
            "Requirement already satisfied: typing-extensions>=3.7.4.3 in /usr/local/lib/python3.7/dist-packages (from GitPython>=1.0.0->wandb) (3.10.0.2)\n",
            "Requirement already satisfied: gitdb<5,>=4.0.1 in /usr/local/lib/python3.7/dist-packages (from GitPython>=1.0.0->wandb) (4.0.9)\n",
            "Requirement already satisfied: smmap<6,>=3.0.1 in /usr/local/lib/python3.7/dist-packages (from gitdb<5,>=4.0.1->GitPython>=1.0.0->wandb) (5.0.0)\n",
            "Requirement already satisfied: chardet<4,>=3.0.2 in /usr/local/lib/python3.7/dist-packages (from requests<3,>=2.0.0->wandb) (3.0.4)\n",
            "Requirement already satisfied: idna<3,>=2.5 in /usr/local/lib/python3.7/dist-packages (from requests<3,>=2.0.0->wandb) (2.10)\n",
            "Requirement already satisfied: urllib3!=1.25.0,!=1.25.1,<1.26,>=1.21.1 in /usr/local/lib/python3.7/dist-packages (from requests<3,>=2.0.0->wandb) (1.24.3)\n",
            "Requirement already satisfied: certifi>=2017.4.17 in /usr/local/lib/python3.7/dist-packages (from requests<3,>=2.0.0->wandb) (2021.10.8)\n",
            "Requirement already satisfied: termcolor<2.0.0,>=1.1.0 in /usr/local/lib/python3.7/dist-packages (from yaspin>=1.0.0->wandb) (1.1.0)\n"
          ]
        }
      ]
    },
    {
      "cell_type": "code",
      "execution_count": 2,
      "id": "d6857299",
      "metadata": {
        "id": "d6857299"
      },
      "outputs": [],
      "source": [
        "# Essentials\n",
        "import numpy as np\n",
        "import tensorflow\n",
        "from tensorflow import keras\n",
        "from keras import regularizers\n",
        "from keras.models import Sequential\n",
        "from keras.utils import np_utils\n",
        "from tensorflow.keras.optimizers import Adam\n",
        "from tensorflow.keras.preprocessing.image import ImageDataGenerator\n",
        "from keras.layers import Dense, Flatten, Conv2D, BatchNormalization, Dropout, MaxPooling2D, Activation\n",
        "import wandb\n",
        "from wandb.keras import WandbCallback\n",
        "from sklearn.model_selection import train_test_split\n",
        "\n",
        "import random\n",
        "import imageio\n",
        "import os\n",
        "import cv2\n",
        "import glob\n",
        "# random.seed(42)"
      ]
    },
    {
      "cell_type": "code",
      "source": [
        "# Load Dataset\n",
        "!git clone https://github.com/ashwanth10/INaturalist_Dataset.git"
      ],
      "metadata": {
        "id": "ATjCicBPOrdj",
        "outputId": "61c3df33-9b69-4403-d258-69eff6167b56",
        "colab": {
          "base_uri": "https://localhost:8080/"
        }
      },
      "id": "ATjCicBPOrdj",
      "execution_count": 3,
      "outputs": [
        {
          "output_type": "stream",
          "name": "stdout",
          "text": [
            "fatal: destination path 'INaturalist_Dataset' already exists and is not an empty directory.\n"
          ]
        }
      ]
    },
    {
      "cell_type": "code",
      "source": [
        "# Labels for INaturalist Dataset\n",
        "class_labels = {\n",
        "    0: 'Amphibia',\n",
        "    1: 'Animalia',\n",
        "    2: 'Arachnida',\n",
        "    3: 'Aves',\n",
        "    4: 'Fungi',\n",
        "    5: 'Insecta', \n",
        "    6: 'Mammalia', \n",
        "    7: 'Mollusca', \n",
        "    8: 'Plantae',\n",
        "    9: 'Reptilia'\n",
        "}\n",
        "\n",
        "num_classes = 10\n",
        "img_size = 128\n",
        "directory_train = 'INaturalist_Dataset/train'\n",
        "directory_test  = 'INaturalist_Dataset/val'\n",
        "\n",
        "# Load training data\n",
        "x_train = []\n",
        "y_train = []\n",
        "for label, name in class_labels.items():\n",
        "   list_images = os.listdir(directory_train + '/' + name)\n",
        "   for image_name in list_images:\n",
        "       try:\n",
        "          image = imageio.imread(directory_train +'/'+name+'/'+image_name)\n",
        "       except: \n",
        "          continue\n",
        "       if np.ndim(image) == 3:\n",
        "          x_train.append(cv2.resize(image, (img_size, img_size)))\n",
        "          y_train.append(label)\n",
        "       else: \n",
        "          # Some images are black and white\n",
        "          print(image_name)\n",
        "\n",
        "# Load testing data\n",
        "x_test = []\n",
        "y_test = []\n",
        "for label, name in class_labels.items():\n",
        "   list_images = os.listdir(directory_test + '/' + name)\n",
        "   for image_name in list_images:\n",
        "       try:\n",
        "          image = imageio.imread(directory_test +'/'+name+'/'+image_name)\n",
        "       except: \n",
        "          continue\n",
        "       if np.ndim(image) == 3:\n",
        "          x_test.append(cv2.resize(image, (img_size, img_size)))\n",
        "          y_test.append(label)\n",
        "       else: \n",
        "          # Some images are black and white\n",
        "          print(image_name)"
      ],
      "metadata": {
        "id": "RzEiY0HWPBlR",
        "outputId": "40b17f58-ec67-422b-a5b9-6a8a229a43ec",
        "colab": {
          "base_uri": "https://localhost:8080/"
        }
      },
      "id": "RzEiY0HWPBlR",
      "execution_count": 4,
      "outputs": [
        {
          "output_type": "stream",
          "name": "stdout",
          "text": [
            "aa66b3ba5ccffdb3c41c1d3acf7dd569.jpg\n",
            "2fad1ed3a05629c089cd530f297e27e6.jpg\n",
            "d192b73b0af85824c65e91f8795d8df7.jpg\n"
          ]
        }
      ]
    },
    {
      "cell_type": "code",
      "source": [
        "#converting training list into numpy arrays.\n",
        "x_train = np.array(x_train)\n",
        "y_train = np.array(y_train)\n",
        "\n",
        "#converting test list into numpy arrays.\n",
        "x_test = np.array(x_test)\n",
        "y_test = np.array(y_test)\n"
      ],
      "metadata": {
        "id": "OkxW1BOuPD9v"
      },
      "id": "OkxW1BOuPD9v",
      "execution_count": 5,
      "outputs": []
    },
    {
      "cell_type": "code",
      "source": [
        "# Set seed\n",
        "np.random.seed(0)"
      ],
      "metadata": {
        "id": "yORpCp68PGXd"
      },
      "id": "yORpCp68PGXd",
      "execution_count": 6,
      "outputs": []
    },
    {
      "cell_type": "code",
      "source": [
        "x_train, x_val, y_train, y_val = train_test_split(x_train, y_train,\n",
        "                                                  test_size=0.1, \n",
        "                                                  stratify=y_train,\n",
        "                                                  random_state=42)"
      ],
      "metadata": {
        "id": "sH_okn6PPJOG"
      },
      "id": "sH_okn6PPJOG",
      "execution_count": 7,
      "outputs": []
    },
    {
      "cell_type": "code",
      "source": [
        "# normalize training data\n",
        "x_train = x_train / 255\n",
        "x_val = x_val / 255\n",
        "\n",
        "#normalize testing data\n",
        "x_test = x_test / 255"
      ],
      "metadata": {
        "id": "cuJBTtupPKla"
      },
      "id": "cuJBTtupPKla",
      "execution_count": 8,
      "outputs": []
    },
    {
      "cell_type": "code",
      "source": [
        "# One-hot encoding for training data\n",
        "targs = np.zeros((len(y_train), 10, 1))\n",
        "for i in range(len(y_train)):\n",
        "    targs[i][y_train[i]][0] = 1 # preparing the target matrix \n",
        "\n",
        "y_train = targs"
      ],
      "metadata": {
        "id": "_0VRlcAJPMf6"
      },
      "id": "_0VRlcAJPMf6",
      "execution_count": 9,
      "outputs": []
    },
    {
      "cell_type": "code",
      "source": [
        "# One-hot encoding for validation data\n",
        "targs_val = np.zeros((len(y_val), 10, 1))\n",
        "for i in range(len(y_val)):\n",
        "    targs_val[i][y_val[i]][0] = 1 # preparing the target matrix \n",
        "\n",
        "y_val = targs_val"
      ],
      "metadata": {
        "id": "MnSknEjLPN6P"
      },
      "id": "MnSknEjLPN6P",
      "execution_count": 10,
      "outputs": []
    },
    {
      "cell_type": "code",
      "source": [
        "# One-hot encoding for testing data\n",
        "targs_test = np.zeros((len(y_test), 10, 1))\n",
        "for i in range(len(y_test)):\n",
        "    targs_test[i][y_test[i]][0] = 1 # preparing the target matrix \n",
        "\n",
        "y_test = targs_test"
      ],
      "metadata": {
        "id": "W76uzDI6LJ8a"
      },
      "id": "W76uzDI6LJ8a",
      "execution_count": 11,
      "outputs": []
    },
    {
      "cell_type": "code",
      "source": [
        "sweep_config = {\n",
        "    'method': 'random', \n",
        "    'metric': {\n",
        "      'name': 'accuracy',\n",
        "      'goal': 'maximize'   \n",
        "    },\n",
        "    'parameters': {\n",
        "        'kernel_size':{\n",
        "            'values': [[(3,3),(3,3),(3,3),(3,3),(3,3)], [(3,3),(5,5),(5,5),(7,7),(7,7)], [(7,7),(7,7),(5,5),(5,5),(3,3)], [(3,3),(5,5),(7,7),(9,9),(11,11)] ]\n",
        "        },\n",
        "        'weight_decay': {\n",
        "            'values': [0, 0.0005, 0.005]\n",
        "        },\n",
        "        'dropout': {\n",
        "            'values': [0, 0.2, 0.4]\n",
        "        },\n",
        "        'learning_rate': {\n",
        "            'values': [1e-3, 1e-4]\n",
        "        },\n",
        "        'activation': {\n",
        "            'values': ['relu', 'elu', 'selu']\n",
        "        },\n",
        "        'batch_norm':{\n",
        "            'values': ['true','false']\n",
        "        },\n",
        "        'filt_org':{\n",
        "            'values': [[32,32,32,32,32],[32,64,64,128,128],[128,128,64,64,32],[32,64,128,256,512]]\n",
        "        },\n",
        "        'data_augment': {\n",
        "            'values': ['true','false']\n",
        "        },\n",
        "        'batch_size': {\n",
        "            'values': [32, 64]\n",
        "        },\n",
        "        'num_dense':{\n",
        "            'values': [64, 128, 256, 512]\n",
        "        }\n",
        "    }\n",
        "}"
      ],
      "metadata": {
        "id": "qQ67G9XtI-qC"
      },
      "id": "qQ67G9XtI-qC",
      "execution_count": 12,
      "outputs": []
    },
    {
      "cell_type": "code",
      "source": [
        "sweep_id = wandb.sweep(sweep_config, entity=\"cs21m010-cs21m041\", project=\"DL_Assignment_2\")"
      ],
      "metadata": {
        "colab": {
          "base_uri": "https://localhost:8080/"
        },
        "id": "bmoABCXIJBIu",
        "outputId": "2fafe396-0ca3-4295-f0fb-3c7c3cc7f661"
      },
      "id": "bmoABCXIJBIu",
      "execution_count": 13,
      "outputs": [
        {
          "output_type": "stream",
          "name": "stdout",
          "text": [
            "Create sweep with ID: m0gvx7e0\n",
            "Sweep URL: https://wandb.ai/cs21m010-cs21m041/DL_Assignment_2/sweeps/m0gvx7e0\n"
          ]
        }
      ]
    },
    {
      "cell_type": "code",
      "source": [
        "def addActivation(model, config):\n",
        "    if config.activation == \"relu\":\n",
        "        model.add(Activation('relu'))\n",
        "    elif config.activation == \"elu\":\n",
        "        model.add(Activation('elu'))\n",
        "    elif config.activation == \"selu\":\n",
        "        model.add(Activation('selu'))"
      ],
      "metadata": {
        "id": "njzewgfwJBCx"
      },
      "id": "njzewgfwJBCx",
      "execution_count": 14,
      "outputs": []
    },
    {
      "cell_type": "code",
      "source": [
        "def configureBatchNormalization(model, config):\n",
        "    if config.batch_norm == 'True':\n",
        "        model.add(BatchNormalization())"
      ],
      "metadata": {
        "id": "cNqveD3-JA_l"
      },
      "id": "cNqveD3-JA_l",
      "execution_count": 15,
      "outputs": []
    },
    {
      "cell_type": "code",
      "source": [
        "def calculateTestAccuracy(model,x_test,y_test):\n",
        "  yhat=model.predict(x_test)\n",
        "  yhat_max = np.argmax(yhat, axis=1)\n",
        "  y_test_max = np.argmax(y_test, axis=1)\n",
        "  y_test_max = y_test_max.reshape(-1)\n",
        "  accuracy= (yhat_max == y_test_max).sum()/ y_test.shape[0]\n",
        "  print('accuracy: ', accuracy)"
      ],
      "metadata": {
        "id": "gC-f6YzeKTra"
      },
      "id": "gC-f6YzeKTra",
      "execution_count": 21,
      "outputs": []
    },
    {
      "cell_type": "code",
      "source": [
        "def train():\n",
        "\n",
        "    # Initialize a new wandb run\n",
        "    wandb.init(config=sweep_config)\n",
        "    \n",
        "    # Config is a variable that holds and saves hyperparameters and inputs\n",
        "    config = wandb.config\n",
        "    wandb.run.name = 'num_dense_'+ str(config.num_dense)+'_bs_'+str(config.batch_size)+'_ac_'+ config.activation\n",
        "    \n",
        "    # Determine input shape\n",
        "    input_shape = (img_size, img_size , 3)\n",
        "    \n",
        "    # clear session\n",
        "    tensorflow.keras.backend.clear_session()\n",
        "\n",
        "    # Define the model architecture\n",
        "    model = Sequential()\n",
        "\n",
        "    filter = config.filt_org\n",
        "\n",
        "    for i in range(5):\n",
        "        model.add(Conv2D(filters = filter[i], kernel_size = config.kernel_size[i],\n",
        "                         padding = 'same', input_shape = input_shape, \n",
        "                         kernel_regularizer=regularizers.l2(config.weight_decay)))\n",
        "        \n",
        "        addActivation(model, config)\n",
        "        configureBatchNormalization(model, config)\n",
        "        model.add(MaxPooling2D(pool_size=(2, 2)))  \n",
        "\n",
        "    # FC layer\n",
        "    model.add(Flatten())\n",
        "    model.add(Dense(config.num_dense, activation = config.activation, kernel_regularizer = regularizers.l2(config.weight_decay)))\n",
        "    model.add(Dropout(config.dropout))\n",
        "    model.add(BatchNormalization())\n",
        "\n",
        "    # Output layer\n",
        "    model.add(Dense(num_classes, activation = \"softmax\"))\n",
        "\n",
        "    # Define the optimizer\n",
        "    optimizer = Adam(lr=config.learning_rate, beta_1=0.9, beta_2=0.999)\n",
        "    \n",
        "    model.compile(loss = \"categorical_crossentropy\", optimizer = optimizer, metrics=['accuracy'])\n",
        "\n",
        "    #data augmentation\n",
        "    if config.data_augment == 'true':\n",
        "        datagen = ImageDataGenerator(\n",
        "            rotation_range=45,  # randomly rotate images in the range (degrees, 0 to 180)\n",
        "            width_shift_range=0.2,  # randomly shift images horizontally (fraction of total width)\n",
        "            height_shift_range=0.1,  # randomly shift images vertically (fraction of total height)\n",
        "            horizontal_flip=True,  # randomly flip images\n",
        "            vertical_flip=False  # randomly flip images\n",
        "        )\n",
        "    else:\n",
        "        datagen = ImageDataGenerator(rescale = 1.0)\n",
        "\n",
        "    datagen.fit(x_train)\n",
        "    \n",
        "    model.fit(\n",
        "        datagen.flow(x_train, y_train, batch_size = config.batch_size),\n",
        "        epochs = 1,\n",
        "        verbose = 1,\n",
        "        validation_data= (x_val, y_val),\n",
        "        callbacks = [WandbCallback()]\n",
        "    )\n",
        "\n",
        "    calculateTestAccuracy(model,x_test,y_test)\n",
        "    "
      ],
      "metadata": {
        "id": "OrjZY4ZTJA8r"
      },
      "id": "OrjZY4ZTJA8r",
      "execution_count": 17,
      "outputs": []
    },
    {
      "cell_type": "code",
      "source": [
        "wandb.agent(sweep_id, train, count = 1)"
      ],
      "metadata": {
        "colab": {
          "base_uri": "https://localhost:8080/",
          "height": 705,
          "referenced_widgets": [
            "77136c5204234c90acf1605ce181e474",
            "3cf05041f19b4431815215d4612c0aeb",
            "29ebab358d2c49e89ef5bc750b7ef3ee",
            "95758134869d443a8bb58dd5e2fda6c0",
            "faf019254f254e1f872afcb46d8f1b65",
            "20be693362a74f10a68bc5fac0a3c4ca",
            "c271356db9264e2a885b44cf2d8e09ae",
            "cf41b48c199e4d43af96c3e3a1406d4b"
          ]
        },
        "id": "i-V9yLcNJAxm",
        "outputId": "c3cd3e0b-32be-45c9-d87b-71c543e5c4b6"
      },
      "id": "i-V9yLcNJAxm",
      "execution_count": 18,
      "outputs": [
        {
          "output_type": "stream",
          "name": "stderr",
          "text": [
            "\u001b[34m\u001b[1mwandb\u001b[0m: Agent Starting Run: bxl2px4q with config:\n",
            "\u001b[34m\u001b[1mwandb\u001b[0m: \tactivation: selu\n",
            "\u001b[34m\u001b[1mwandb\u001b[0m: \tbatch_norm: true\n",
            "\u001b[34m\u001b[1mwandb\u001b[0m: \tbatch_size: 32\n",
            "\u001b[34m\u001b[1mwandb\u001b[0m: \tdata_augment: true\n",
            "\u001b[34m\u001b[1mwandb\u001b[0m: \tdropout: 0.2\n",
            "\u001b[34m\u001b[1mwandb\u001b[0m: \tfilt_org: [32, 32, 32, 32, 32]\n",
            "\u001b[34m\u001b[1mwandb\u001b[0m: \tkernel_size: [[3, 3], [3, 3], [3, 3], [3, 3], [3, 3]]\n",
            "\u001b[34m\u001b[1mwandb\u001b[0m: \tlearning_rate: 0.0001\n",
            "\u001b[34m\u001b[1mwandb\u001b[0m: \tnum_dense: 256\n",
            "\u001b[34m\u001b[1mwandb\u001b[0m: \tweight_decay: 0.005\n",
            "\u001b[34m\u001b[1mwandb\u001b[0m: Currently logged in as: \u001b[33mcs21m010-cs21m041\u001b[0m (use `wandb login --relogin` to force relogin)\n"
          ]
        },
        {
          "output_type": "display_data",
          "data": {
            "text/plain": [
              "<IPython.core.display.HTML object>"
            ],
            "text/html": [
              "Tracking run with wandb version 0.12.11"
            ]
          },
          "metadata": {}
        },
        {
          "output_type": "display_data",
          "data": {
            "text/plain": [
              "<IPython.core.display.HTML object>"
            ],
            "text/html": [
              "Run data is saved locally in <code>/content/wandb/run-20220328_105141-bxl2px4q</code>"
            ]
          },
          "metadata": {}
        },
        {
          "output_type": "display_data",
          "data": {
            "text/plain": [
              "<IPython.core.display.HTML object>"
            ],
            "text/html": [
              "Syncing run <strong><a href=\"https://wandb.ai/cs21m010-cs21m041/DL_Assignment_2/runs/bxl2px4q\" target=\"_blank\">leafy-sweep-1</a></strong> to <a href=\"https://wandb.ai/cs21m010-cs21m041/DL_Assignment_2\" target=\"_blank\">Weights & Biases</a> (<a href=\"https://wandb.me/run\" target=\"_blank\">docs</a>)<br/>Sweep page:  <a href=\"https://wandb.ai/cs21m010-cs21m041/DL_Assignment_2/sweeps/m0gvx7e0\" target=\"_blank\">https://wandb.ai/cs21m010-cs21m041/DL_Assignment_2/sweeps/m0gvx7e0</a>"
            ]
          },
          "metadata": {}
        },
        {
          "output_type": "stream",
          "name": "stderr",
          "text": [
            "/usr/local/lib/python3.7/dist-packages/keras/optimizer_v2/adam.py:105: UserWarning: The `lr` argument is deprecated, use `learning_rate` instead.\n",
            "  super(Adam, self).__init__(name, **kwargs)\n"
          ]
        },
        {
          "output_type": "stream",
          "name": "stdout",
          "text": [
            "282/282 [==============================] - 53s 150ms/step - loss: 4.8635 - accuracy: 0.1817 - val_loss: 4.3699 - val_accuracy: 0.2690 - _timestamp: 1648464767.0000 - _runtime: 66.0000\n",
            "accuracy:  0.2665\n",
            "\n"
          ]
        },
        {
          "output_type": "display_data",
          "data": {
            "text/plain": [
              "<IPython.core.display.HTML object>"
            ],
            "text/html": [
              "Waiting for W&B process to finish... <strong style=\"color:green\">(success).</strong>"
            ]
          },
          "metadata": {}
        },
        {
          "output_type": "display_data",
          "data": {
            "text/plain": [
              "VBox(children=(Label(value='2.062 MB of 2.062 MB uploaded (0.000 MB deduped)\\r'), FloatProgress(value=1.0, max…"
            ],
            "application/vnd.jupyter.widget-view+json": {
              "version_major": 2,
              "version_minor": 0,
              "model_id": "77136c5204234c90acf1605ce181e474"
            }
          },
          "metadata": {}
        },
        {
          "output_type": "display_data",
          "data": {
            "text/plain": [
              "<IPython.core.display.HTML object>"
            ],
            "text/html": [
              "<style>\n",
              "    table.wandb td:nth-child(1) { padding: 0 10px; text-align: right }\n",
              "    .wandb-row { display: flex; flex-direction: row; flex-wrap: wrap; width: 100% }\n",
              "    .wandb-col { display: flex; flex-direction: column; flex-basis: 100%; flex: 1; padding: 10px; }\n",
              "    </style>\n",
              "<div class=\"wandb-row\"><div class=\"wandb-col\"><h3>Run history:</h3><br/><table class=\"wandb\"><tr><td>accuracy</td><td>▁</td></tr><tr><td>epoch</td><td>▁</td></tr><tr><td>loss</td><td>▁</td></tr><tr><td>val_accuracy</td><td>▁</td></tr><tr><td>val_loss</td><td>▁</td></tr></table><br/></div><div class=\"wandb-col\"><h3>Run summary:</h3><br/><table class=\"wandb\"><tr><td>accuracy</td><td>0.18175</td></tr><tr><td>best_epoch</td><td>0</td></tr><tr><td>best_val_loss</td><td>4.36993</td></tr><tr><td>epoch</td><td>0</td></tr><tr><td>loss</td><td>4.86353</td></tr><tr><td>val_accuracy</td><td>0.269</td></tr><tr><td>val_loss</td><td>4.36993</td></tr></table><br/></div></div>"
            ]
          },
          "metadata": {}
        },
        {
          "output_type": "display_data",
          "data": {
            "text/plain": [
              "<IPython.core.display.HTML object>"
            ],
            "text/html": [
              "Synced <strong style=\"color:#cdcd00\">leafy-sweep-1</strong>: <a href=\"https://wandb.ai/cs21m010-cs21m041/DL_Assignment_2/runs/bxl2px4q\" target=\"_blank\">https://wandb.ai/cs21m010-cs21m041/DL_Assignment_2/runs/bxl2px4q</a><br/>Synced 5 W&B file(s), 1 media file(s), 0 artifact file(s) and 1 other file(s)"
            ]
          },
          "metadata": {}
        },
        {
          "output_type": "display_data",
          "data": {
            "text/plain": [
              "<IPython.core.display.HTML object>"
            ],
            "text/html": [
              "Find logs at: <code>./wandb/run-20220328_105141-bxl2px4q/logs</code>"
            ]
          },
          "metadata": {}
        }
      ]
    },
    {
      "cell_type": "code",
      "source": [
        "# print(y_test)\n",
        "y_test_max = np.argmax(y_test, axis=1)\n",
        "print(y_test_max.reshape(-1))"
      ],
      "metadata": {
        "colab": {
          "base_uri": "https://localhost:8080/"
        },
        "id": "lL-8wOy0HdG7",
        "outputId": "3fe828b6-523f-4c69-d954-752042a7d712"
      },
      "id": "lL-8wOy0HdG7",
      "execution_count": 19,
      "outputs": [
        {
          "output_type": "stream",
          "name": "stdout",
          "text": [
            "[0 0 0 ... 9 9 9]\n"
          ]
        }
      ]
    },
    {
      "cell_type": "code",
      "source": [
        "y_test_max"
      ],
      "metadata": {
        "colab": {
          "base_uri": "https://localhost:8080/"
        },
        "id": "1D9tSSkNHw2t",
        "outputId": "dfd435e5-e300-4577-e0dc-9d4f63da1faa"
      },
      "id": "1D9tSSkNHw2t",
      "execution_count": 20,
      "outputs": [
        {
          "output_type": "execute_result",
          "data": {
            "text/plain": [
              "array([[0],\n",
              "       [0],\n",
              "       [0],\n",
              "       ...,\n",
              "       [9],\n",
              "       [9],\n",
              "       [9]])"
            ]
          },
          "metadata": {},
          "execution_count": 20
        }
      ]
    }
  ],
  "metadata": {
    "kernelspec": {
      "display_name": "Python 3 (ipykernel)",
      "language": "python",
      "name": "python3"
    },
    "language_info": {
      "codemirror_mode": {
        "name": "ipython",
        "version": 3
      },
      "file_extension": ".py",
      "mimetype": "text/x-python",
      "name": "python",
      "nbconvert_exporter": "python",
      "pygments_lexer": "ipython3",
      "version": "3.9.7"
    },
    "colab": {
      "name": "assignment_2.ipynb",
      "provenance": []
    },
    "accelerator": "GPU",
    "widgets": {
      "application/vnd.jupyter.widget-state+json": {
        "77136c5204234c90acf1605ce181e474": {
          "model_module": "@jupyter-widgets/controls",
          "model_name": "VBoxModel",
          "model_module_version": "1.5.0",
          "state": {
            "_dom_classes": [],
            "_model_module": "@jupyter-widgets/controls",
            "_model_module_version": "1.5.0",
            "_model_name": "VBoxModel",
            "_view_count": null,
            "_view_module": "@jupyter-widgets/controls",
            "_view_module_version": "1.5.0",
            "_view_name": "VBoxView",
            "box_style": "",
            "children": [
              "IPY_MODEL_3cf05041f19b4431815215d4612c0aeb",
              "IPY_MODEL_29ebab358d2c49e89ef5bc750b7ef3ee"
            ],
            "layout": "IPY_MODEL_95758134869d443a8bb58dd5e2fda6c0"
          }
        },
        "3cf05041f19b4431815215d4612c0aeb": {
          "model_module": "@jupyter-widgets/controls",
          "model_name": "LabelModel",
          "model_module_version": "1.5.0",
          "state": {
            "_dom_classes": [],
            "_model_module": "@jupyter-widgets/controls",
            "_model_module_version": "1.5.0",
            "_model_name": "LabelModel",
            "_view_count": null,
            "_view_module": "@jupyter-widgets/controls",
            "_view_module_version": "1.5.0",
            "_view_name": "LabelView",
            "description": "",
            "description_tooltip": null,
            "layout": "IPY_MODEL_faf019254f254e1f872afcb46d8f1b65",
            "placeholder": "​",
            "style": "IPY_MODEL_20be693362a74f10a68bc5fac0a3c4ca",
            "value": "2.072 MB of 2.072 MB uploaded (0.000 MB deduped)\r"
          }
        },
        "29ebab358d2c49e89ef5bc750b7ef3ee": {
          "model_module": "@jupyter-widgets/controls",
          "model_name": "FloatProgressModel",
          "model_module_version": "1.5.0",
          "state": {
            "_dom_classes": [],
            "_model_module": "@jupyter-widgets/controls",
            "_model_module_version": "1.5.0",
            "_model_name": "FloatProgressModel",
            "_view_count": null,
            "_view_module": "@jupyter-widgets/controls",
            "_view_module_version": "1.5.0",
            "_view_name": "ProgressView",
            "bar_style": "",
            "description": "",
            "description_tooltip": null,
            "layout": "IPY_MODEL_c271356db9264e2a885b44cf2d8e09ae",
            "max": 1,
            "min": 0,
            "orientation": "horizontal",
            "style": "IPY_MODEL_cf41b48c199e4d43af96c3e3a1406d4b",
            "value": 1
          }
        },
        "95758134869d443a8bb58dd5e2fda6c0": {
          "model_module": "@jupyter-widgets/base",
          "model_name": "LayoutModel",
          "model_module_version": "1.2.0",
          "state": {
            "_model_module": "@jupyter-widgets/base",
            "_model_module_version": "1.2.0",
            "_model_name": "LayoutModel",
            "_view_count": null,
            "_view_module": "@jupyter-widgets/base",
            "_view_module_version": "1.2.0",
            "_view_name": "LayoutView",
            "align_content": null,
            "align_items": null,
            "align_self": null,
            "border": null,
            "bottom": null,
            "display": null,
            "flex": null,
            "flex_flow": null,
            "grid_area": null,
            "grid_auto_columns": null,
            "grid_auto_flow": null,
            "grid_auto_rows": null,
            "grid_column": null,
            "grid_gap": null,
            "grid_row": null,
            "grid_template_areas": null,
            "grid_template_columns": null,
            "grid_template_rows": null,
            "height": null,
            "justify_content": null,
            "justify_items": null,
            "left": null,
            "margin": null,
            "max_height": null,
            "max_width": null,
            "min_height": null,
            "min_width": null,
            "object_fit": null,
            "object_position": null,
            "order": null,
            "overflow": null,
            "overflow_x": null,
            "overflow_y": null,
            "padding": null,
            "right": null,
            "top": null,
            "visibility": null,
            "width": null
          }
        },
        "faf019254f254e1f872afcb46d8f1b65": {
          "model_module": "@jupyter-widgets/base",
          "model_name": "LayoutModel",
          "model_module_version": "1.2.0",
          "state": {
            "_model_module": "@jupyter-widgets/base",
            "_model_module_version": "1.2.0",
            "_model_name": "LayoutModel",
            "_view_count": null,
            "_view_module": "@jupyter-widgets/base",
            "_view_module_version": "1.2.0",
            "_view_name": "LayoutView",
            "align_content": null,
            "align_items": null,
            "align_self": null,
            "border": null,
            "bottom": null,
            "display": null,
            "flex": null,
            "flex_flow": null,
            "grid_area": null,
            "grid_auto_columns": null,
            "grid_auto_flow": null,
            "grid_auto_rows": null,
            "grid_column": null,
            "grid_gap": null,
            "grid_row": null,
            "grid_template_areas": null,
            "grid_template_columns": null,
            "grid_template_rows": null,
            "height": null,
            "justify_content": null,
            "justify_items": null,
            "left": null,
            "margin": null,
            "max_height": null,
            "max_width": null,
            "min_height": null,
            "min_width": null,
            "object_fit": null,
            "object_position": null,
            "order": null,
            "overflow": null,
            "overflow_x": null,
            "overflow_y": null,
            "padding": null,
            "right": null,
            "top": null,
            "visibility": null,
            "width": null
          }
        },
        "20be693362a74f10a68bc5fac0a3c4ca": {
          "model_module": "@jupyter-widgets/controls",
          "model_name": "DescriptionStyleModel",
          "model_module_version": "1.5.0",
          "state": {
            "_model_module": "@jupyter-widgets/controls",
            "_model_module_version": "1.5.0",
            "_model_name": "DescriptionStyleModel",
            "_view_count": null,
            "_view_module": "@jupyter-widgets/base",
            "_view_module_version": "1.2.0",
            "_view_name": "StyleView",
            "description_width": ""
          }
        },
        "c271356db9264e2a885b44cf2d8e09ae": {
          "model_module": "@jupyter-widgets/base",
          "model_name": "LayoutModel",
          "model_module_version": "1.2.0",
          "state": {
            "_model_module": "@jupyter-widgets/base",
            "_model_module_version": "1.2.0",
            "_model_name": "LayoutModel",
            "_view_count": null,
            "_view_module": "@jupyter-widgets/base",
            "_view_module_version": "1.2.0",
            "_view_name": "LayoutView",
            "align_content": null,
            "align_items": null,
            "align_self": null,
            "border": null,
            "bottom": null,
            "display": null,
            "flex": null,
            "flex_flow": null,
            "grid_area": null,
            "grid_auto_columns": null,
            "grid_auto_flow": null,
            "grid_auto_rows": null,
            "grid_column": null,
            "grid_gap": null,
            "grid_row": null,
            "grid_template_areas": null,
            "grid_template_columns": null,
            "grid_template_rows": null,
            "height": null,
            "justify_content": null,
            "justify_items": null,
            "left": null,
            "margin": null,
            "max_height": null,
            "max_width": null,
            "min_height": null,
            "min_width": null,
            "object_fit": null,
            "object_position": null,
            "order": null,
            "overflow": null,
            "overflow_x": null,
            "overflow_y": null,
            "padding": null,
            "right": null,
            "top": null,
            "visibility": null,
            "width": null
          }
        },
        "cf41b48c199e4d43af96c3e3a1406d4b": {
          "model_module": "@jupyter-widgets/controls",
          "model_name": "ProgressStyleModel",
          "model_module_version": "1.5.0",
          "state": {
            "_model_module": "@jupyter-widgets/controls",
            "_model_module_version": "1.5.0",
            "_model_name": "ProgressStyleModel",
            "_view_count": null,
            "_view_module": "@jupyter-widgets/base",
            "_view_module_version": "1.2.0",
            "_view_name": "StyleView",
            "bar_color": null,
            "description_width": ""
          }
        }
      }
    }
  },
  "nbformat": 4,
  "nbformat_minor": 5
}