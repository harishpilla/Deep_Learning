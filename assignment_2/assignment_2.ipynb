{
  "cells": [
    {
      "cell_type": "code",
      "source": [
        "#To install wandb package ,which is helpful in generating plots and report.\n",
        "!pip install wandb"
      ],
      "metadata": {
        "id": "UhgT21iuJsCl"
      },
      "id": "UhgT21iuJsCl",
      "execution_count": null,
      "outputs": []
    },
    {
      "cell_type": "code",
      "execution_count": null,
      "id": "d6857299",
      "metadata": {
        "id": "d6857299"
      },
      "outputs": [],
      "source": [
        "# Essentials\n",
        "import numpy as np\n",
        "import tensorflow\n",
        "from tensorflow import keras\n",
        "from keras import regularizers\n",
        "from keras.models import Sequential\n",
        "from keras.utils import np_utils\n",
        "from tensorflow.keras.optimizers import Adam\n",
        "from tensorflow.keras.preprocessing.image import ImageDataGenerator\n",
        "from keras.layers import Dense, Flatten, Conv2D, BatchNormalization, Dropout, MaxPooling2D, Activation\n",
        "import wandb\n",
        "from wandb.keras import WandbCallback\n",
        "from sklearn.model_selection import train_test_split\n",
        "\n",
        "import random\n",
        "import imageio\n",
        "import os\n",
        "import cv2\n",
        "import glob\n",
        "# random.seed(42)"
      ]
    },
    {
      "cell_type": "code",
      "source": [
        "# Load Dataset\n",
        "!git clone https://github.com/ashwanth10/INaturalist_Dataset.git"
      ],
      "metadata": {
        "id": "ATjCicBPOrdj",
        "outputId": "26ed7301-66eb-432a-f329-e31b807f2b96",
        "colab": {
          "base_uri": "https://localhost:8080/"
        }
      },
      "id": "ATjCicBPOrdj",
      "execution_count": null,
      "outputs": [
        {
          "output_type": "stream",
          "name": "stdout",
          "text": [
            "fatal: destination path 'INaturalist_Dataset' already exists and is not an empty directory.\n"
          ]
        }
      ]
    },
    {
      "cell_type": "code",
      "source": [
        "# Labels for INaturalist Dataset\n",
        "class_labels = {\n",
        "    0: 'Amphibia',\n",
        "    1: 'Animalia',\n",
        "    2: 'Arachnida',\n",
        "    3: 'Aves',\n",
        "    4: 'Fungi',\n",
        "    5: 'Insecta', \n",
        "    6: 'Mammalia', \n",
        "    7: 'Mollusca', \n",
        "    8: 'Plantae',\n",
        "    9: 'Reptilia'\n",
        "}\n",
        "\n",
        "num_classes = 10\n",
        "img_size = 128\n",
        "directory = 'INaturalist_Dataset/train'\n",
        "\n",
        "# Load training data\n",
        "x_train = []\n",
        "y_train = []\n",
        "for label, name in class_labels.items():\n",
        "   list_images = os.listdir(directory + '/' + name)\n",
        "   for image_name in list_images:\n",
        "       try:\n",
        "          image = imageio.imread(directory +'/'+name+'/'+image_name)\n",
        "       except: \n",
        "          continue\n",
        "       if np.ndim(image) == 3:\n",
        "          x_train.append(cv2.resize(image, (img_size, img_size)))\n",
        "          y_train.append(label)\n",
        "       else: \n",
        "          # Some images are black and white\n",
        "          print(image_name)"
      ],
      "metadata": {
        "id": "RzEiY0HWPBlR",
        "outputId": "e5aad1dc-6e64-41ff-f49f-82b88bbfce14",
        "colab": {
          "base_uri": "https://localhost:8080/"
        }
      },
      "id": "RzEiY0HWPBlR",
      "execution_count": null,
      "outputs": [
        {
          "output_type": "stream",
          "name": "stdout",
          "text": [
            "aa66b3ba5ccffdb3c41c1d3acf7dd569.jpg\n",
            "2fad1ed3a05629c089cd530f297e27e6.jpg\n",
            "d192b73b0af85824c65e91f8795d8df7.jpg\n"
          ]
        }
      ]
    },
    {
      "cell_type": "code",
      "source": [
        "x_train = np.array(x_train)\n",
        "y_train = np.array(y_train)"
      ],
      "metadata": {
        "id": "OkxW1BOuPD9v"
      },
      "id": "OkxW1BOuPD9v",
      "execution_count": null,
      "outputs": []
    },
    {
      "cell_type": "code",
      "source": [
        "# Set seed\n",
        "np.random.seed(0)"
      ],
      "metadata": {
        "id": "yORpCp68PGXd"
      },
      "id": "yORpCp68PGXd",
      "execution_count": null,
      "outputs": []
    },
    {
      "cell_type": "code",
      "source": [
        "x_train, x_val, y_train, y_val = train_test_split(x_train, y_train,\n",
        "                                                  test_size=0.1, \n",
        "                                                  stratify=y_train,\n",
        "                                                  random_state=42)"
      ],
      "metadata": {
        "id": "sH_okn6PPJOG"
      },
      "id": "sH_okn6PPJOG",
      "execution_count": null,
      "outputs": []
    },
    {
      "cell_type": "code",
      "source": [
        "# normalize data\n",
        "x_train = x_train / 255\n",
        "x_val = x_val / 255"
      ],
      "metadata": {
        "id": "cuJBTtupPKla"
      },
      "id": "cuJBTtupPKla",
      "execution_count": null,
      "outputs": []
    },
    {
      "cell_type": "code",
      "source": [
        "# One-hot encoding\n",
        "targs = np.zeros((len(y_train), 10, 1))\n",
        "for i in range(len(y_train)):\n",
        "    targs[i][y_train[i]][0] = 1 # preparing the target matrix \n",
        "\n",
        "y_train = targs"
      ],
      "metadata": {
        "id": "_0VRlcAJPMf6"
      },
      "id": "_0VRlcAJPMf6",
      "execution_count": null,
      "outputs": []
    },
    {
      "cell_type": "code",
      "source": [
        "targs_val = np.zeros((len(y_val), 10, 1))\n",
        "for i in range(len(y_val)):\n",
        "    targs_val[i][y_val[i]][0] = 1 # preparing the target matrix \n",
        "\n",
        "y_val = targs_val"
      ],
      "metadata": {
        "id": "MnSknEjLPN6P"
      },
      "id": "MnSknEjLPN6P",
      "execution_count": null,
      "outputs": []
    },
    {
      "cell_type": "code",
      "source": [
        "sweep_config = {\n",
        "    'method': 'random', \n",
        "    'metric': {\n",
        "      'name': 'accuracy',\n",
        "      'goal': 'maximize'   \n",
        "    },\n",
        "    'parameters': {\n",
        "        'kernel_size':{\n",
        "            'values': [[(3,3),(3,3),(3,3),(3,3),(3,3)], [(3,3),(5,5),(5,5),(7,7),(7,7)], [(7,7),(7,7),(5,5),(5,5),(3,3)], [(3,3),(5,5),(7,7),(9,9),(11,11)] ]\n",
        "        },\n",
        "        'weight_decay': {\n",
        "            'values': [0, 0.0005, 0.005]\n",
        "        },\n",
        "        'dropout': {\n",
        "            'values': [0, 0.2, 0.4]\n",
        "        },\n",
        "        'learning_rate': {\n",
        "            'values': [1e-3, 1e-4]\n",
        "        },\n",
        "        'activation': {\n",
        "            'values': ['relu', 'elu', 'selu']\n",
        "        },\n",
        "        'batch_norm':{\n",
        "            'values': ['true','false']\n",
        "        },\n",
        "        'filt_org':{\n",
        "            'values': [[32,32,32,32,32],[32,64,64,128,128],[128,128,64,64,32],[32,64,128,256,512]]\n",
        "        },\n",
        "        'data_augment': {\n",
        "            'values': ['true','false']\n",
        "        },\n",
        "        'batch_size': {\n",
        "            'values': [32, 64]\n",
        "        },\n",
        "        'num_dense':{\n",
        "            'values': [64, 128, 256, 512]\n",
        "        }\n",
        "    }\n",
        "}"
      ],
      "metadata": {
        "id": "qQ67G9XtI-qC"
      },
      "id": "qQ67G9XtI-qC",
      "execution_count": null,
      "outputs": []
    },
    {
      "cell_type": "code",
      "source": [
        "sweep_id = wandb.sweep(sweep_config, entity=\"cs21m010-cs21m041\", project=\"DL_Assignment_2\")"
      ],
      "metadata": {
        "id": "bmoABCXIJBIu"
      },
      "id": "bmoABCXIJBIu",
      "execution_count": null,
      "outputs": []
    },
    {
      "cell_type": "code",
      "source": [
        "def addActivation(model, config):\n",
        "    if config.activation == \"relu\":\n",
        "        model.add(Activation('relu'))\n",
        "    elif config.activation == \"elu\":\n",
        "        model.add(Activation('elu'))\n",
        "    elif config.activation == \"selu\":\n",
        "        model.add(Activation('selu'))"
      ],
      "metadata": {
        "id": "njzewgfwJBCx"
      },
      "id": "njzewgfwJBCx",
      "execution_count": null,
      "outputs": []
    },
    {
      "cell_type": "code",
      "source": [
        "def configureBatchNormalization(model, config):\n",
        "    if config.batch_norm == 'True':\n",
        "        model.add(BatchNormalization())"
      ],
      "metadata": {
        "id": "cNqveD3-JA_l"
      },
      "id": "cNqveD3-JA_l",
      "execution_count": null,
      "outputs": []
    },
    {
      "cell_type": "code",
      "source": [
        "def train():\n",
        "\n",
        "    # Initialize a new wandb run\n",
        "    wandb.init(config=sweep_config)\n",
        "    \n",
        "    # Config is a variable that holds and saves hyperparameters and inputs\n",
        "    config = wandb.config\n",
        "    wandb.run.name = 'num_dense_'+ str(config.num_dense)+'_bs_'+str(config.batch_size)+'_ac_'+ config.activation\n",
        "    \n",
        "    # Determine input shape\n",
        "    input_shape = (img_size, img_size , 3)\n",
        "    \n",
        "    # Define the model architecture\n",
        "    model = Sequential()\n",
        "\n",
        "    filter = config.filt_org\n",
        "\n",
        "    for i in range(5):\n",
        "        model.add(Conv2D(filters = filter[i], kernel_size = config.kernel_size[i],\n",
        "                         padding = 'same', input_shape = input_shape, \n",
        "                         kernel_regularizer=regularizers.l2(config.weight_decay)))\n",
        "        \n",
        "        addActivation(model, config)\n",
        "        configureBatchNormalization(model, config)\n",
        "        model.add(MaxPooling2D(pool_size=(2, 2)))  \n",
        "\n",
        "    # FC layer\n",
        "    model.add(Flatten())\n",
        "    model.add(Dense(config.num_dense, activation = config.activation, kernel_regularizer = regularizers.l2(config.weight_decay)))\n",
        "    model.add(Dropout(config.dropout))\n",
        "    model.add(BatchNormalization())\n",
        "\n",
        "    # Output layer\n",
        "    model.add(Dense(num_classes, activation = \"softmax\"))\n",
        "\n",
        "    # Define the optimizer\n",
        "    optimizer = Adam(lr=config.learning_rate, beta_1=0.9, beta_2=0.999)\n",
        "    \n",
        "    model.compile(loss = \"categorical_crossentropy\", optimizer = optimizer, metrics=['accuracy'])\n",
        "\n",
        "    #data augmentation\n",
        "    if config.data_augment == 'true':\n",
        "        datagen = ImageDataGenerator(\n",
        "            rotation_range=45,  # randomly rotate images in the range (degrees, 0 to 180)\n",
        "            width_shift_range=0.2,  # randomly shift images horizontally (fraction of total width)\n",
        "            height_shift_range=0.1,  # randomly shift images vertically (fraction of total height)\n",
        "            horizontal_flip=True,  # randomly flip images\n",
        "            vertical_flip=False  # randomly flip images\n",
        "        )\n",
        "    else:\n",
        "        datagen = ImageDataGenerator(rescale = 1.0)\n",
        "\n",
        "    datagen.fit(x_train)\n",
        "    \n",
        "    model.fit(\n",
        "        datagen.flow(x_train, y_train, batch_size = config.batch_size),\n",
        "        epochs = 10,\n",
        "        verbose = 1,\n",
        "        validation_data= (x_val, y_val),\n",
        "        callbacks = [WandbCallback()]\n",
        "    )\n",
        "    "
      ],
      "metadata": {
        "id": "OrjZY4ZTJA8r"
      },
      "id": "OrjZY4ZTJA8r",
      "execution_count": null,
      "outputs": []
    },
    {
      "cell_type": "code",
      "source": [
        "wandb.agent(sweep_id, train, count = 1)"
      ],
      "metadata": {
        "id": "i-V9yLcNJAxm"
      },
      "id": "i-V9yLcNJAxm",
      "execution_count": null,
      "outputs": []
    }
  ],
  "metadata": {
    "kernelspec": {
      "display_name": "Python 3 (ipykernel)",
      "language": "python",
      "name": "python3"
    },
    "language_info": {
      "codemirror_mode": {
        "name": "ipython",
        "version": 3
      },
      "file_extension": ".py",
      "mimetype": "text/x-python",
      "name": "python",
      "nbconvert_exporter": "python",
      "pygments_lexer": "ipython3",
      "version": "3.9.7"
    },
    "colab": {
      "name": "assignment_2.ipynb",
      "provenance": []
    },
    "accelerator": "GPU"
  },
  "nbformat": 4,
  "nbformat_minor": 5
}